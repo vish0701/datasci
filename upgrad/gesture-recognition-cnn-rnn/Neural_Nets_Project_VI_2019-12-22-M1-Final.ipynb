{
 "cells": [
  {
   "cell_type": "markdown",
   "metadata": {
    "colab_type": "text",
    "id": "G5zg3C6MI3rI"
   },
   "source": [
    "# Gesture Recognition\n",
    "In this group project, you are going to build a 3D Conv model that will be able to predict the 5 gestures correctly. Please import the following libraries to get started."
   ]
  },
  {
   "cell_type": "code",
   "execution_count": 1,
   "metadata": {
    "colab": {},
    "colab_type": "code",
    "id": "QKdJpfYjI3rK"
   },
   "outputs": [],
   "source": [
    "import numpy as np\n",
    "import os\n",
    "from scipy.misc import imread, imresize\n",
    "import datetime\n",
    "import os\n",
    "from sklearn.preprocessing import normalize\n",
    "import matplotlib.pyplot as plt"
   ]
  },
  {
   "cell_type": "code",
   "execution_count": 2,
   "metadata": {
    "colab": {},
    "colab_type": "code",
    "id": "O65zK97qavtZ"
   },
   "outputs": [],
   "source": [
    "import warnings\n",
    "warnings.simplefilter('ignore')"
   ]
  },
  {
   "cell_type": "markdown",
   "metadata": {
    "colab_type": "text",
    "id": "VfAujZU1I3rO"
   },
   "source": [
    "We set the random seed so that the results don't vary drastically."
   ]
  },
  {
   "cell_type": "code",
   "execution_count": 3,
   "metadata": {
    "colab": {},
    "colab_type": "code",
    "id": "xNyb2Rb_I3rP"
   },
   "outputs": [
    {
     "name": "stderr",
     "output_type": "stream",
     "text": [
      "Using TensorFlow backend.\n"
     ]
    }
   ],
   "source": [
    "np.random.seed(30)\n",
    "import random as rn\n",
    "rn.seed(30)\n",
    "from keras import backend as K\n",
    "import tensorflow as tf\n",
    "tf.set_random_seed(30)"
   ]
  },
  {
   "cell_type": "markdown",
   "metadata": {
    "colab_type": "text",
    "id": "Xu2djOTkI3rT"
   },
   "source": [
    "#### Set up Hyperparameters \n",
    "In this block, you read the folder names for training and validation. You also set the `batch_size` here. Note that you set the batch size in such a way that you are able to use the GPU in full capacity. You keep increasing the batch size until the machine throws an error."
   ]
  },
  {
   "cell_type": "code",
   "execution_count": 4,
   "metadata": {
    "colab": {},
    "colab_type": "code",
    "id": "RGVP6g3vI3rU"
   },
   "outputs": [],
   "source": [
    "#\n",
    "# original code - to be uncommented before submission\n",
    "train_doc = np.random.permutation(open('/notebooks/storage/Final_data/Collated_training/train.csv').readlines())\n",
    "val_doc = np.random.permutation(open('/notebooks/storage/Final_data/Collated_training/val.csv').readlines())\n",
    "#\n",
    "# added code - comment/delete before submission\n",
    "#train_doc = np.random.permutation(open('./Project_data/train.csv').readlines())\n",
    "#val_doc = np.random.permutation(open('./Project_data/val.csv').readlines())\n",
    "#\n",
    "\n",
    "batch_size = 32 #experiment with the batch size\n",
    "num_epochs = 50 # choose the number of epochs\n",
    "img_frames_tot = 30 # this is the total number of frames we have per video\n",
    "img_feed_factor = 1  # to decide on number of frames to feed for each video, use img_feed_factor \n",
    "img_frames = int(img_frames_tot / img_feed_factor) # to be passed to model to specify # of frames per video.\n",
    "img_ht = 120\n",
    "img_wd = 120\n",
    "\n",
    "decay_factor = 0.5\n",
    "\n",
    "# setup image normalization type \n",
    "#     0 - simple (divide by 255)\n",
    "#     1 - max norm (using sklearn)\n",
    "#     2 - min-max norm\n",
    "#     3 - percentile based\n",
    "norm_type_dic = {0:'simple', 1:'max', 2:'min-max', 3:'mean'}\n",
    "norm_type = 0\n",
    "\n"
   ]
  },
  {
   "cell_type": "markdown",
   "metadata": {
    "colab_type": "text",
    "id": "y5fPxQ6VI3rW"
   },
   "source": [
    "## Generator\n",
    "This is one of the most important part of the code. The overall structure of the generator has been given. In the generator, you are going to preprocess the images as you have images of 2 different dimensions as well as create a batch of video frames. You have to experiment with `img_idx`, `y`,`z` and normalization such that you get high accuracy."
   ]
  },
  {
   "cell_type": "code",
   "execution_count": 5,
   "metadata": {
    "colab": {},
    "colab_type": "code",
    "id": "RGZ0GYvkI3rW"
   },
   "outputs": [],
   "source": [
    "def generator(source_path, folder_list, batch_size):\n",
    "    print( 'Source path = ', source_path, '; batch size =', batch_size)\n",
    "    \n",
    "    img_idx = [x for x in range(0,img_frames_tot) if int(x%img_feed_factor)==0] \n",
    "        \n",
    "    while True:\n",
    "        t = np.random.permutation(folder_list)\n",
    "        num_batches = len(folder_list)//batch_size # calculate the number of batches\n",
    "        for batch in range(num_batches): # we iterate over the number of batches\n",
    "            \n",
    "            batch_data = np.zeros((batch_size,len(img_idx),img_ht,img_wd,3)) # x is the number of images you use for each video, (y,z) is the final size of the input images and 3 is the number of channels RGB\n",
    "            batch_labels = np.zeros((batch_size,5)) # batch_labels is the one hot representation of the output\n",
    "\n",
    "            for folder in range(batch_size): # iterate over the batch_size\n",
    "                imgs = os.listdir(source_path+'/'+ t[folder + (batch*batch_size)].split(';')[0]) # read all the images in the folder\n",
    "                for idx,item in enumerate(img_idx): #  Iterate iver the frames/images of a folder to read them in\n",
    "                    image = imread(source_path+'/'+ t[folder + (batch*batch_size)].strip().split(';')[0]+'/'+imgs[item]).astype(np.float32)\n",
    "\n",
    "                    #crop the images and resize them. Note that the images are of 2 different shape \n",
    "                    #and the conv3D will throw error if the inputs in a batch have different shapes\n",
    "\n",
    "                    #since the given input is of images will be 160*120 and 360*360\n",
    "                    if image.shape[0]!=image.shape[1]:\n",
    "                        image=image[0:120,20:140]\n",
    "\n",
    "                    #resize the image 120*120\n",
    "                    img_resized = imresize(image, (img_ht,img_wd), interp = 'nearest')\n",
    "\n",
    "                    if (norm_type==0):\n",
    "                    #Simple Normalisation\n",
    "                        batch_data[folder,idx,:,:,0] = img_resized[:,:,0]/255\n",
    "                        batch_data[folder,idx,:,:,1] = img_resized[:,:,1]/255\n",
    "                        batch_data[folder,idx,:,:,2] = img_resized[:,:,2]/255\n",
    "                    elif (norm_type==2):\n",
    "                    #Min-Max normalisation\n",
    "                        img_min = np.min(img_resized)\n",
    "                        img_max = np.max(img_resized)\n",
    "                        batch_data[folder,idx,:,:,0] = (img_resized[:,:,0] - img_min) / (img_max - img_min)  \n",
    "                        batch_data[folder,idx,:,:,1] = (img_resized[:,:,1] - img_min) / (img_max - img_min)\n",
    "                        batch_data[folder,idx,:,:,2] = (img_resized[:,:,2] - img_min) / (img_max - img_min)\n",
    "                    elif(norm_type==3):\n",
    "                    #mean & stddev based normalisation\n",
    "                        img_mean = np.mean(img_resized)\n",
    "                        img_std = np.std(img_resized)\n",
    "                        batch_data[folder,idx,:,:,0] = (img_resized[:,:,0] - img_mean) / img_std  \n",
    "                        batch_data[folder,idx,:,:,1] = (img_resized[:,:,1] - img_mean) / img_std\n",
    "                        batch_data[folder,idx,:,:,2] = (img_resized[:,:,2] - img_mean) / img_std\n",
    "\n",
    "\n",
    "                batch_labels[folder, int(t[folder + (batch*batch_size)].strip().split(';')[2])] = 1\n",
    "            \n",
    "            yield batch_data, batch_labels #you yield the batch_data and the batch_labels\n",
    "            \n",
    "        # write the code for the remaining data points which are left after full batches\n",
    "        remaining_videos=len(folder_list)%batch_size\n",
    "        if(remaining_videos>0):\n",
    "            \n",
    "            batch_data = np.zeros((batch_size,len(img_idx),img_ht,img_wd,3)) # x is the number of images you use for each video, (y,z) is the final size of the input images and 3 is the number of channels RGB\n",
    "            batch_labels = np.zeros((batch_size,5)) # batch_labels is the one hot representation of the output\n",
    "\n",
    "            for folder in range(batch_size): # iterate over the batch_size\n",
    "                imgs = os.listdir(source_path+'/'+ t[folder + (batch*batch_size)].split(';')[0]) # read all the images in the folder\n",
    "                for idx,item in enumerate(img_idx): #  Iterate iver the frames/images of a folder to read them in\n",
    "                    image = imread(source_path+'/'+ t[folder + (batch*batch_size)].strip().split(';')[0]+'/'+imgs[item]).astype(np.float32)\n",
    "\n",
    "                    #crop the images and resize them. Note that the images are of 2 different shape \n",
    "                    #and the conv3D will throw error if the inputs in a batch have different shapes\n",
    "\n",
    "                    #since the given input is of images will be 160*120 and 360*360\n",
    "                    if image.shape[0]!=image.shape[1]:\n",
    "                        image=image[0:120,20:140]\n",
    "\n",
    "                    #resize the image 120*120\n",
    "                    img_resized = imresize(image, (img_ht,img_wd), interp = 'nearest')\n",
    "\n",
    "                    if (norm_type==0):\n",
    "                    #Simple Normalisation\n",
    "                        batch_data[folder,idx,:,:,0] = img_resized[:,:,0]/255\n",
    "                        batch_data[folder,idx,:,:,1] = img_resized[:,:,1]/255\n",
    "                        batch_data[folder,idx,:,:,2] = img_resized[:,:,2]/255\n",
    "                    elif (norm_type==2):\n",
    "                    #Min-Max normalisation\n",
    "                        img_min = np.min(img_resized)\n",
    "                        img_max = np.max(img_resized)\n",
    "                        batch_data[folder,idx,:,:,0] = (img_resized[:,:,0] - img_min) / (img_max - img_min)  \n",
    "                        batch_data[folder,idx,:,:,1] = (img_resized[:,:,1] - img_min) / (img_max - img_min)\n",
    "                        batch_data[folder,idx,:,:,2] = (img_resized[:,:,2] - img_min) / (img_max - img_min)\n",
    "                    elif(norm_type==3):\n",
    "                    #mean & stddev based normalisation\n",
    "                        img_mean = np.mean(img_resized)\n",
    "                        img_std = np.std(img_resized)\n",
    "                        batch_data[folder,idx,:,:,0] = (img_resized[:,:,0] - img_mean) / img_std  \n",
    "                        batch_data[folder,idx,:,:,1] = (img_resized[:,:,1] - img_mean) / img_std\n",
    "                        batch_data[folder,idx,:,:,2] = (img_resized[:,:,2] - img_mean) / img_std\n",
    "\n",
    "                batch_labels[folder, int(t[folder + (batch*batch_size)].strip().split(';')[2])] = 1\n",
    "                \n",
    "            yield batch_data, batch_labels #you yield the batch_data and the batch_labels\n",
    "          \n"
   ]
  },
  {
   "cell_type": "markdown",
   "metadata": {
    "colab_type": "text",
    "id": "fx97_FRcI3re"
   },
   "source": [
    "Note here that a video is represented above in the generator as (number of images, height, width, number of channels). Take this into consideration while creating the model architecture."
   ]
  },
  {
   "cell_type": "code",
   "execution_count": 6,
   "metadata": {
    "colab": {},
    "colab_type": "code",
    "id": "df_5uncpI3rg"
   },
   "outputs": [
    {
     "name": "stdout",
     "output_type": "stream",
     "text": [
      "# training sequences = 663\n",
      "# validation sequences = 100\n"
     ]
    }
   ],
   "source": [
    "curr_dt_time = datetime.datetime.now()\n",
    "\n",
    "# original code - to be uncommented before submission\n",
    "train_path = '/notebooks/storage/Final_data/Collated_training/train'\n",
    "val_path = '/notebooks/storage/Final_data/Collated_training/val'\n",
    "# added code - comment/delete before submission\n",
    "#train_path = './Project_data/train'\n",
    "#val_path = './Project_data/val'\n",
    "#\n",
    "\n",
    "num_train_sequences = len(train_doc)\n",
    "print('# training sequences =', num_train_sequences)\n",
    "num_val_sequences = len(val_doc)\n",
    "print('# validation sequences =', num_val_sequences)\n"
   ]
  },
  {
   "cell_type": "markdown",
   "metadata": {
    "colab_type": "text",
    "id": "M71wawQdI3rl"
   },
   "source": [
    "### Testing the generator"
   ]
  },
  {
   "cell_type": "code",
   "execution_count": 7,
   "metadata": {
    "colab": {},
    "colab_type": "code",
    "id": "9cgRSd5FI3rn"
   },
   "outputs": [
    {
     "name": "stdout",
     "output_type": "stream",
     "text": [
      "normalisation: simple\n",
      "Source path =  ./Project_data/train ; batch size = 32\n",
      "batch data mean: 0.4387791173066453\n",
      "batch labels mean: 0.2\n"
     ]
    }
   ],
   "source": [
    "train_generator = generator(train_path, train_doc, batch_size)\n",
    "\n",
    "\n",
    "print('normalisation:', norm_type_dic[norm_type])\n",
    "bdata, blabels = next(train_generator)\n",
    "print('batch data mean:', np.mean(bdata))\n",
    "\n"
   ]
  },
  {
   "cell_type": "markdown",
   "metadata": {
    "colab_type": "text",
    "id": "zcgqHXrlI3rr"
   },
   "source": [
    "## Model\n",
    "Here you make the model using different functionalities that Keras provides. Remember to use `Conv3D` and `MaxPooling3D` and not `Conv2D` and `Maxpooling2D` for a 3D convolution model. You would want to use `TimeDistributed` while building a Conv2D + RNN model. Also remember that the last layer is the softmax. Design the network in such a way that the model is able to give good accuracy on the least number of parameters so that it can fit in the memory of the webcam."
   ]
  },
  {
   "cell_type": "code",
   "execution_count": 8,
   "metadata": {
    "colab": {},
    "colab_type": "code",
    "id": "KIr8N5cTI3rw"
   },
   "outputs": [],
   "source": [
    "from keras.models import Sequential, Model\n",
    "#from keras.layers import Dense, GRU, Flatten, TimeDistributed, Flatten, BatchNormalization, Activation\n",
    "from keras.layers import Dense, GRU, Flatten, TimeDistributed, Flatten, BatchNormalization, Activation, Dropout\n",
    "from keras.layers.convolutional import Conv3D, MaxPooling3D\n",
    "from keras.callbacks import ModelCheckpoint, ReduceLROnPlateau\n",
    "from keras import optimizers\n"
   ]
  },
  {
   "cell_type": "markdown",
   "metadata": {
    "colab_type": "text",
    "id": "1V0n002EI3r0"
   },
   "source": [
    "#### Model #1 - Conv 3D \n"
   ]
  },
  {
   "cell_type": "code",
   "execution_count": 9,
   "metadata": {
    "colab": {},
    "colab_type": "code",
    "id": "CqeWx1yEI3r2"
   },
   "outputs": [],
   "source": [
    "#write your model here\n",
    "\n",
    "\n",
    "model = Sequential()\n",
    "\n",
    "model.add(Conv3D(8, kernel_size=(3, 3, 3),padding='same',input_shape=(img_frames,img_ht,img_wd,3)))\n",
    "model.add(BatchNormalization())\n",
    "model.add(Activation('relu'))\n",
    "model.add(MaxPooling3D(pool_size=(2,2,2)))\n",
    "\n",
    "model.add(Conv3D(16, kernel_size=(3, 3, 3),padding='same'))\n",
    "model.add(BatchNormalization())\n",
    "model.add(Activation('relu'))     \n",
    "model.add(MaxPooling3D(pool_size=(2,2,2)))\n",
    "\n",
    "model.add(Conv3D(32, kernel_size=(1, 3, 3),padding='same'))\n",
    "model.add(BatchNormalization())\n",
    "model.add(Activation('relu'))     \n",
    "model.add(MaxPooling3D(pool_size=(2,2,2)))\n",
    "\n",
    "model.add(Conv3D(64, kernel_size=(1, 3, 3),padding='same'))\n",
    "model.add(BatchNormalization())\n",
    "model.add(Activation('relu'))     \n",
    "model.add(MaxPooling3D(pool_size=(2,2,2)))\n",
    "\n",
    "model.add(Dropout(0.5))\n",
    "               \n",
    "#Flattern\n",
    "model.add(Flatten())\n",
    "          \n",
    "#Dense layers\n",
    "\n",
    "model.add(Dense(64, activation='relu'))\n",
    "model.add(Dropout(0.2))          \n",
    "\n",
    "\n",
    "#Soft Max Layer\n",
    "model.add(Dense(5, activation='softmax'))\n",
    "\n",
    "\n"
   ]
  },
  {
   "cell_type": "markdown",
   "metadata": {
    "colab_type": "text",
    "id": "eJ2mg-pgI3r7"
   },
   "source": [
    "Now that you have written the model, the next step is to `compile` the model. When you print the `summary` of the model, you'll see the total number of parameters you have to train."
   ]
  },
  {
   "cell_type": "code",
   "execution_count": 10,
   "metadata": {
    "colab": {},
    "colab_type": "code",
    "id": "sGCYwJftI3r9",
    "scrolled": true
   },
   "outputs": [
    {
     "name": "stdout",
     "output_type": "stream",
     "text": [
      "_________________________________________________________________\n",
      "Layer (type)                 Output Shape              Param #   \n",
      "=================================================================\n",
      "conv3d_1 (Conv3D)            (None, 30, 120, 120, 8)   656       \n",
      "_________________________________________________________________\n",
      "batch_normalization_1 (Batch (None, 30, 120, 120, 8)   32        \n",
      "_________________________________________________________________\n",
      "activation_1 (Activation)    (None, 30, 120, 120, 8)   0         \n",
      "_________________________________________________________________\n",
      "max_pooling3d_1 (MaxPooling3 (None, 15, 60, 60, 8)     0         \n",
      "_________________________________________________________________\n",
      "conv3d_2 (Conv3D)            (None, 15, 60, 60, 16)    3472      \n",
      "_________________________________________________________________\n",
      "batch_normalization_2 (Batch (None, 15, 60, 60, 16)    64        \n",
      "_________________________________________________________________\n",
      "activation_2 (Activation)    (None, 15, 60, 60, 16)    0         \n",
      "_________________________________________________________________\n",
      "max_pooling3d_2 (MaxPooling3 (None, 7, 30, 30, 16)     0         \n",
      "_________________________________________________________________\n",
      "conv3d_3 (Conv3D)            (None, 7, 30, 30, 32)     4640      \n",
      "_________________________________________________________________\n",
      "batch_normalization_3 (Batch (None, 7, 30, 30, 32)     128       \n",
      "_________________________________________________________________\n",
      "activation_3 (Activation)    (None, 7, 30, 30, 32)     0         \n",
      "_________________________________________________________________\n",
      "max_pooling3d_3 (MaxPooling3 (None, 3, 15, 15, 32)     0         \n",
      "_________________________________________________________________\n",
      "conv3d_4 (Conv3D)            (None, 3, 15, 15, 64)     18496     \n",
      "_________________________________________________________________\n",
      "batch_normalization_4 (Batch (None, 3, 15, 15, 64)     256       \n",
      "_________________________________________________________________\n",
      "activation_4 (Activation)    (None, 3, 15, 15, 64)     0         \n",
      "_________________________________________________________________\n",
      "max_pooling3d_4 (MaxPooling3 (None, 1, 7, 7, 64)       0         \n",
      "_________________________________________________________________\n",
      "dropout_1 (Dropout)          (None, 1, 7, 7, 64)       0         \n",
      "_________________________________________________________________\n",
      "flatten_1 (Flatten)          (None, 3136)              0         \n",
      "_________________________________________________________________\n",
      "dense_1 (Dense)              (None, 64)                200768    \n",
      "_________________________________________________________________\n",
      "dropout_2 (Dropout)          (None, 64)                0         \n",
      "_________________________________________________________________\n",
      "dense_2 (Dense)              (None, 5)                 325       \n",
      "=================================================================\n",
      "Total params: 228,837\n",
      "Trainable params: 228,597\n",
      "Non-trainable params: 240\n",
      "_________________________________________________________________\n",
      "None\n"
     ]
    }
   ],
   "source": [
    "from keras.optimizers import Adam\n",
    "optimiser = Adam() #write your optimizer\n",
    "model.compile(optimizer=optimiser, loss='categorical_crossentropy', metrics=['categorical_accuracy'])\n",
    "print (model.summary())"
   ]
  },
  {
   "cell_type": "markdown",
   "metadata": {
    "colab_type": "text",
    "id": "PCb5wpS3I3sC"
   },
   "source": [
    "Let us create the `train_generator` and the `val_generator` which will be used in `.fit_generator`."
   ]
  },
  {
   "cell_type": "code",
   "execution_count": 11,
   "metadata": {
    "colab": {},
    "colab_type": "code",
    "id": "Fi3WCz0GI3sD"
   },
   "outputs": [],
   "source": [
    "train_generator = generator(train_path, train_doc, batch_size)\n",
    "val_generator = generator(val_path, val_doc, batch_size)"
   ]
  },
  {
   "cell_type": "code",
   "execution_count": 12,
   "metadata": {
    "colab": {},
    "colab_type": "code",
    "id": "4EiuPsouI3sG"
   },
   "outputs": [],
   "source": [
    "# 'model_init' is just example text for the name. Replace that with any appropriate name you want.\n",
    "#model_name = 'model_init' + '_' + str(curr_dt_time).replace(' ','').replace(':','_') + '/'\n",
    "model_name = 'model_1' + '_' + str(curr_dt_time).replace(' ','').replace(':','_') + '/'\n",
    "    \n",
    "if not os.path.exists(model_name):\n",
    "    os.mkdir(model_name)\n",
    "        \n",
    "filepath = model_name + 'model-{epoch:05d}-{loss:.5f}-{categorical_accuracy:.5f}-{val_loss:.5f}-{val_categorical_accuracy:.5f}.h5'\n",
    "\n",
    "checkpoint = ModelCheckpoint(filepath, monitor='val_loss', verbose=1, save_best_only=False, save_weights_only=False, mode='auto', period=1)\n",
    "\n",
    "LR = ReduceLROnPlateau(monitor='val_loss', factor=decay_factor, patience=2, cooldown=1, verbose=1) # write the REducelronplateau code here\n",
    "callbacks_list = [checkpoint, LR]"
   ]
  },
  {
   "cell_type": "markdown",
   "metadata": {
    "colab_type": "text",
    "id": "Fj3f0glpI3sY"
   },
   "source": [
    "The `steps_per_epoch` and `validation_steps` are used by `fit_generator` to decide the number of next() calls it need to make."
   ]
  },
  {
   "cell_type": "code",
   "execution_count": 13,
   "metadata": {
    "colab": {},
    "colab_type": "code",
    "id": "25GfCKV-I3sZ"
   },
   "outputs": [],
   "source": [
    "if (num_train_sequences%batch_size) == 0:\n",
    "    steps_per_epoch = int(num_train_sequences/batch_size)\n",
    "else:\n",
    "    steps_per_epoch = (num_train_sequences//batch_size) + 1\n",
    "\n",
    "if (num_val_sequences%batch_size) == 0:\n",
    "    validation_steps = int(num_val_sequences/batch_size)\n",
    "else:\n",
    "    validation_steps = (num_val_sequences//batch_size) + 1"
   ]
  },
  {
   "cell_type": "markdown",
   "metadata": {
    "colab_type": "text",
    "id": "jwy70q9yyBuC"
   },
   "source": [
    "#### Display Values of various hyperparameters"
   ]
  },
  {
   "cell_type": "code",
   "execution_count": 14,
   "metadata": {
    "colab": {},
    "colab_type": "code",
    "id": "t5eOdmfRyJXA"
   },
   "outputs": [
    {
     "name": "stdout",
     "output_type": "stream",
     "text": [
      "Frames per video: 30\n",
      "Epochs: 50\n",
      "Batch Size: 32\n",
      "Decay Factor: 0.5\n",
      "Normalization Type: simple\n"
     ]
    }
   ],
   "source": [
    "print('Frames per video:', img_frames)\n",
    "print('Epochs:', num_epochs)\n",
    "print('Batch Size:',batch_size)\n",
    "print('Decay Factor:',decay_factor)\n",
    "print('Normalization Type:', norm_type_dic[norm_type])\n",
    "\n"
   ]
  },
  {
   "cell_type": "markdown",
   "metadata": {
    "colab_type": "text",
    "id": "T42QVT2JI3sd"
   },
   "source": [
    "Let us now fit the model. This will start training the model and with the help of the checkpoints, you'll be able to save the model at the end of each epoch."
   ]
  },
  {
   "cell_type": "code",
   "execution_count": 15,
   "metadata": {
    "colab": {},
    "colab_type": "code",
    "id": "jzDrxM8aI3se"
   },
   "outputs": [
    {
     "name": "stdout",
     "output_type": "stream",
     "text": [
      "Time@Begin: 2019-12-23 12:26:05.519052\n",
      "Source path =  ./Project_data/val ; batch size = Source path =  ./Project_data/train ; batch size = 32\n",
      "Epoch 1/5032\n",
      "\n",
      "21/21 [==============================] - 177s 8s/step - loss: 1.9246 - categorical_accuracy: 0.3199 - val_loss: 1.2497 - val_categorical_accuracy: 0.4531\n",
      "\n",
      "Epoch 00001: saving model to model_1_2019-12-2312_25_55.208840/model-00001-1.92461-0.31994-1.24973-0.45312.h5\n",
      "Epoch 2/50\n",
      "21/21 [==============================] - 76s 4s/step - loss: 1.2821 - categorical_accuracy: 0.4122 - val_loss: 1.3223 - val_categorical_accuracy: 0.3672\n",
      "\n",
      "Epoch 00002: saving model to model_1_2019-12-2312_25_55.208840/model-00002-1.28211-0.41220-1.32231-0.36719.h5\n",
      "Epoch 3/50\n",
      "21/21 [==============================] - 72s 3s/step - loss: 1.1585 - categorical_accuracy: 0.4717 - val_loss: 1.0660 - val_categorical_accuracy: 0.5234\n",
      "\n",
      "Epoch 00003: saving model to model_1_2019-12-2312_25_55.208840/model-00003-1.15854-0.47173-1.06596-0.52344.h5\n",
      "Epoch 4/50\n",
      "21/21 [==============================] - 72s 3s/step - loss: 1.0094 - categorical_accuracy: 0.5655 - val_loss: 0.7884 - val_categorical_accuracy: 0.6562\n",
      "\n",
      "Epoch 00004: saving model to model_1_2019-12-2312_25_55.208840/model-00004-1.00938-0.56548-0.78843-0.65625.h5\n",
      "Epoch 5/50\n",
      "21/21 [==============================] - 73s 3s/step - loss: 0.8948 - categorical_accuracy: 0.6429 - val_loss: 0.8396 - val_categorical_accuracy: 0.6797\n",
      "\n",
      "Epoch 00005: saving model to model_1_2019-12-2312_25_55.208840/model-00005-0.89484-0.64286-0.83956-0.67969.h5\n",
      "Epoch 6/50\n",
      "21/21 [==============================] - 73s 3s/step - loss: 0.7844 - categorical_accuracy: 0.6979 - val_loss: 1.0150 - val_categorical_accuracy: 0.5625\n",
      "\n",
      "Epoch 00006: saving model to model_1_2019-12-2312_25_55.208840/model-00006-0.78443-0.69792-1.01505-0.56250.h5\n",
      "\n",
      "Epoch 00006: ReduceLROnPlateau reducing learning rate to 0.0005000000237487257.\n",
      "Epoch 7/50\n",
      "21/21 [==============================] - 72s 3s/step - loss: 0.7365 - categorical_accuracy: 0.6964 - val_loss: 0.6274 - val_categorical_accuracy: 0.7812\n",
      "\n",
      "Epoch 00007: saving model to model_1_2019-12-2312_25_55.208840/model-00007-0.73652-0.69643-0.62736-0.78125.h5\n",
      "Epoch 8/50\n",
      "21/21 [==============================] - 73s 3s/step - loss: 0.6369 - categorical_accuracy: 0.7440 - val_loss: 0.7055 - val_categorical_accuracy: 0.7422\n",
      "\n",
      "Epoch 00008: saving model to model_1_2019-12-2312_25_55.208840/model-00008-0.63695-0.74405-0.70547-0.74219.h5\n",
      "Epoch 9/50\n",
      "21/21 [==============================] - 72s 3s/step - loss: 0.6402 - categorical_accuracy: 0.7574 - val_loss: 0.7298 - val_categorical_accuracy: 0.7344\n",
      "\n",
      "Epoch 00009: saving model to model_1_2019-12-2312_25_55.208840/model-00009-0.64018-0.75744-0.72984-0.73438.h5\n",
      "\n",
      "Epoch 00009: ReduceLROnPlateau reducing learning rate to 0.0002500000118743628.\n",
      "Epoch 10/50\n",
      "21/21 [==============================] - 71s 3s/step - loss: 0.6519 - categorical_accuracy: 0.7173 - val_loss: 0.6942 - val_categorical_accuracy: 0.7578\n",
      "\n",
      "Epoch 00010: saving model to model_1_2019-12-2312_25_55.208840/model-00010-0.65193-0.71726-0.69419-0.75781.h5\n",
      "Epoch 11/50\n",
      "21/21 [==============================] - 71s 3s/step - loss: 0.5404 - categorical_accuracy: 0.7738 - val_loss: 0.6451 - val_categorical_accuracy: 0.7969\n",
      "\n",
      "Epoch 00011: saving model to model_1_2019-12-2312_25_55.208840/model-00011-0.54039-0.77381-0.64511-0.79688.h5\n",
      "\n",
      "Epoch 00011: ReduceLROnPlateau reducing learning rate to 0.0001250000059371814.\n",
      "Epoch 12/50\n",
      "21/21 [==============================] - 73s 3s/step - loss: 0.5607 - categorical_accuracy: 0.7649 - val_loss: 0.5809 - val_categorical_accuracy: 0.8203\n",
      "\n",
      "Epoch 00012: saving model to model_1_2019-12-2312_25_55.208840/model-00012-0.56073-0.76488-0.58091-0.82031.h5\n",
      "Epoch 13/50\n",
      "21/21 [==============================] - 72s 3s/step - loss: 0.5369 - categorical_accuracy: 0.7932 - val_loss: 0.5901 - val_categorical_accuracy: 0.7891\n",
      "\n",
      "Epoch 00013: saving model to model_1_2019-12-2312_25_55.208840/model-00013-0.53685-0.79315-0.59006-0.78906.h5\n",
      "Epoch 14/50\n",
      "21/21 [==============================] - 73s 3s/step - loss: 0.4701 - categorical_accuracy: 0.8229 - val_loss: 0.6271 - val_categorical_accuracy: 0.7656\n",
      "\n",
      "Epoch 00014: saving model to model_1_2019-12-2312_25_55.208840/model-00014-0.47010-0.82292-0.62713-0.76562.h5\n",
      "\n",
      "Epoch 00014: ReduceLROnPlateau reducing learning rate to 6.25000029685907e-05.\n",
      "Epoch 15/50\n",
      "21/21 [==============================] - 72s 3s/step - loss: 0.4616 - categorical_accuracy: 0.8185 - val_loss: 0.5298 - val_categorical_accuracy: 0.8125\n",
      "\n",
      "Epoch 00015: saving model to model_1_2019-12-2312_25_55.208840/model-00015-0.46163-0.81845-0.52978-0.81250.h5\n",
      "Epoch 16/50\n",
      "21/21 [==============================] - 73s 3s/step - loss: 0.5169 - categorical_accuracy: 0.7946 - val_loss: 0.5780 - val_categorical_accuracy: 0.8047\n",
      "\n",
      "Epoch 00017: saving model to model_1_2019-12-2312_25_55.208840/model-00017-0.51687-0.79464-0.57801-0.80469.h5\n",
      "\n",
      "Epoch 00017: ReduceLROnPlateau reducing learning rate to 3.125000148429535e-05.\n",
      "Epoch 18/50\n",
      "21/21 [==============================] - 73s 3s/step - loss: 0.4890 - categorical_accuracy: 0.8036 - val_loss: 0.5425 - val_categorical_accuracy: 0.8281\n",
      "\n",
      "Epoch 00018: saving model to model_1_2019-12-2312_25_55.208840/model-00018-0.48897-0.80357-0.54250-0.82812.h5\n",
      "Epoch 19/50\n",
      "21/21 [==============================] - 73s 3s/step - loss: 0.5079 - categorical_accuracy: 0.7946 - val_loss: 0.6112 - val_categorical_accuracy: 0.7656\n",
      "\n",
      "Epoch 00019: saving model to model_1_2019-12-2312_25_55.208840/model-00019-0.50793-0.79464-0.61117-0.76562.h5\n",
      "\n",
      "Epoch 00019: ReduceLROnPlateau reducing learning rate to 1.5625000742147677e-05.\n",
      "Epoch 20/50\n",
      "21/21 [==============================] - 73s 3s/step - loss: 0.4988 - categorical_accuracy: 0.7917 - val_loss: 0.5324 - val_categorical_accuracy: 0.8281\n",
      "\n",
      "Epoch 00020: saving model to model_1_2019-12-2312_25_55.208840/model-00020-0.49878-0.79167-0.53243-0.82812.h5\n",
      "Epoch 21/50\n",
      "21/21 [==============================] - 72s 3s/step - loss: 0.5005 - categorical_accuracy: 0.8036 - val_loss: 0.5297 - val_categorical_accuracy: 0.8203\n",
      "\n",
      "Epoch 00021: saving model to model_1_2019-12-2312_25_55.208840/model-00021-0.50053-0.80357-0.52970-0.82031.h5\n",
      "\n",
      "Epoch 00021: ReduceLROnPlateau reducing learning rate to 7.812500371073838e-06.\n",
      "Epoch 22/50\n",
      "21/21 [==============================] - 72s 3s/step - loss: 0.4737 - categorical_accuracy: 0.8065 - val_loss: 0.5635 - val_categorical_accuracy: 0.8125\n",
      "\n",
      "Epoch 00022: saving model to model_1_2019-12-2312_25_55.208840/model-00022-0.47369-0.80655-0.56346-0.81250.h5\n",
      "Epoch 23/50\n",
      "21/21 [==============================] - 72s 3s/step - loss: 0.4992 - categorical_accuracy: 0.7917 - val_loss: 0.5234 - val_categorical_accuracy: 0.8438\n",
      "\n",
      "Epoch 00023: saving model to model_1_2019-12-2312_25_55.208840/model-00023-0.49925-0.79167-0.52335-0.84375.h5\n",
      "Epoch 24/50\n",
      "21/21 [==============================] - 72s 3s/step - loss: 0.4542 - categorical_accuracy: 0.8318 - val_loss: 0.5172 - val_categorical_accuracy: 0.8359\n",
      "\n",
      "Epoch 00024: saving model to model_1_2019-12-2312_25_55.208840/model-00024-0.45423-0.83185-0.51717-0.83594.h5\n",
      "Epoch 25/50\n",
      "21/21 [==============================] - 72s 3s/step - loss: 0.4675 - categorical_accuracy: 0.8185 - val_loss: 0.4895 - val_categorical_accuracy: 0.8281\n",
      "\n",
      "Epoch 00025: saving model to model_1_2019-12-2312_25_55.208840/model-00025-0.46754-0.81845-0.48945-0.82812.h5\n",
      "Epoch 26/50\n",
      "21/21 [==============================] - 74s 4s/step - loss: 0.5051 - categorical_accuracy: 0.7932 - val_loss: 0.5566 - val_categorical_accuracy: 0.8125\n",
      "\n",
      "Epoch 00026: saving model to model_1_2019-12-2312_25_55.208840/model-00026-0.50512-0.79315-0.55660-0.81250.h5\n",
      "Epoch 27/50\n",
      "21/21 [==============================] - 74s 4s/step - loss: 0.4389 - categorical_accuracy: 0.8438 - val_loss: 0.5308 - val_categorical_accuracy: 0.8047\n",
      "\n",
      "Epoch 00027: saving model to model_1_2019-12-2312_25_55.208840/model-00027-0.43888-0.84375-0.53081-0.80469.h5\n",
      "\n",
      "Epoch 00027: ReduceLROnPlateau reducing learning rate to 3.906250185536919e-06.\n",
      "Epoch 28/50\n",
      "21/21 [==============================] - 73s 3s/step - loss: 0.4822 - categorical_accuracy: 0.8021 - val_loss: 0.4924 - val_categorical_accuracy: 0.8281\n",
      "\n",
      "Epoch 00028: saving model to model_1_2019-12-2312_25_55.208840/model-00028-0.48220-0.80208-0.49244-0.82812.h5\n",
      "Epoch 29/50\n"
     ]
    },
    {
     "name": "stdout",
     "output_type": "stream",
     "text": [
      "21/21 [==============================] - 72s 3s/step - loss: 0.4717 - categorical_accuracy: 0.8110 - val_loss: 0.5196 - val_categorical_accuracy: 0.8125\n",
      "\n",
      "Epoch 00029: saving model to model_1_2019-12-2312_25_55.208840/model-00029-0.47165-0.81101-0.51958-0.81250.h5\n",
      "\n",
      "Epoch 00029: ReduceLROnPlateau reducing learning rate to 1.9531250927684596e-06.\n",
      "Epoch 30/50\n",
      "21/21 [==============================] - 73s 3s/step - loss: 0.4723 - categorical_accuracy: 0.8036 - val_loss: 0.4982 - val_categorical_accuracy: 0.8203\n",
      "\n",
      "Epoch 00030: saving model to model_1_2019-12-2312_25_55.208840/model-00030-0.47232-0.80357-0.49822-0.82031.h5\n",
      "Epoch 31/50\n",
      "21/21 [==============================] - 72s 3s/step - loss: 0.4540 - categorical_accuracy: 0.8333 - val_loss: 0.5409 - val_categorical_accuracy: 0.7969\n",
      "\n",
      "Epoch 00031: saving model to model_1_2019-12-2312_25_55.208840/model-00031-0.45404-0.83333-0.54090-0.79688.h5\n",
      "\n",
      "Epoch 00031: ReduceLROnPlateau reducing learning rate to 9.765625463842298e-07.\n",
      "Epoch 32/50\n",
      "21/21 [==============================] - 74s 4s/step - loss: 0.4861 - categorical_accuracy: 0.8140 - val_loss: 0.5398 - val_categorical_accuracy: 0.7812\n",
      "\n",
      "Epoch 00032: saving model to model_1_2019-12-2312_25_55.208840/model-00032-0.48611-0.81399-0.53980-0.78125.h5\n",
      "Epoch 33/50\n",
      "21/21 [==============================] - 73s 3s/step - loss: 0.4858 - categorical_accuracy: 0.8006 - val_loss: 0.5050 - val_categorical_accuracy: 0.7969\n",
      "\n",
      "Epoch 00033: saving model to model_1_2019-12-2312_25_55.208840/model-00033-0.48581-0.80060-0.50501-0.79688.h5\n",
      "\n",
      "Epoch 00033: ReduceLROnPlateau reducing learning rate to 4.882812731921149e-07.\n",
      "Epoch 34/50\n",
      "21/21 [==============================] - 73s 3s/step - loss: 0.4807 - categorical_accuracy: 0.8095 - val_loss: 0.5401 - val_categorical_accuracy: 0.8047\n",
      "\n",
      "Epoch 00034: saving model to model_1_2019-12-2312_25_55.208840/model-00034-0.48065-0.80952-0.54013-0.80469.h5\n",
      "Epoch 35/50\n",
      "21/21 [==============================] - 73s 3s/step - loss: 0.4898 - categorical_accuracy: 0.8214 - val_loss: 0.5541 - val_categorical_accuracy: 0.7891\n",
      "\n",
      "Epoch 00035: saving model to model_1_2019-12-2312_25_55.208840/model-00035-0.48980-0.82143-0.55414-0.78906.h5\n",
      "\n",
      "Epoch 00035: ReduceLROnPlateau reducing learning rate to 2.4414063659605745e-07.\n",
      "Epoch 36/50\n",
      "21/21 [==============================] - 73s 3s/step - loss: 0.4705 - categorical_accuracy: 0.8259 - val_loss: 0.5146 - val_categorical_accuracy: 0.7891\n",
      "\n",
      "Epoch 00036: saving model to model_1_2019-12-2312_25_55.208840/model-00036-0.47054-0.82589-0.51460-0.78906.h5\n",
      "Epoch 37/50\n",
      "21/21 [==============================] - 73s 3s/step - loss: 0.4417 - categorical_accuracy: 0.8348 - val_loss: 0.5101 - val_categorical_accuracy: 0.8047\n",
      "\n",
      "Epoch 00037: saving model to model_1_2019-12-2312_25_55.208840/model-00037-0.44171-0.83482-0.51008-0.80469.h5\n",
      "\n",
      "Epoch 00037: ReduceLROnPlateau reducing learning rate to 1.2207031829802872e-07.\n",
      "Epoch 38/50\n",
      "21/21 [==============================] - 73s 3s/step - loss: 0.4667 - categorical_accuracy: 0.8170 - val_loss: 0.5215 - val_categorical_accuracy: 0.7969\n",
      "\n",
      "Epoch 00038: saving model to model_1_2019-12-2312_25_55.208840/model-00038-0.46670-0.81696-0.52153-0.79688.h5\n",
      "Epoch 39/50\n",
      "21/21 [==============================] - 73s 3s/step - loss: 0.4772 - categorical_accuracy: 0.8140 - val_loss: 0.4986 - val_categorical_accuracy: 0.7891\n",
      "\n",
      "Epoch 00039: saving model to model_1_2019-12-2312_25_55.208840/model-00039-0.47722-0.81399-0.49864-0.78906.h5\n",
      "\n",
      "Epoch 00039: ReduceLROnPlateau reducing learning rate to 6.103515914901436e-08.\n",
      "Epoch 40/50\n",
      "21/21 [==============================] - 73s 3s/step - loss: 0.4446 - categorical_accuracy: 0.8333 - val_loss: 0.5294 - val_categorical_accuracy: 0.7891\n",
      "\n",
      "Epoch 00040: saving model to model_1_2019-12-2312_25_55.208840/model-00040-0.44463-0.83333-0.52941-0.78906.h5\n",
      "Epoch 41/50\n",
      "21/21 [==============================] - 73s 3s/step - loss: 0.4453 - categorical_accuracy: 0.8467 - val_loss: 0.5018 - val_categorical_accuracy: 0.8047\n",
      "\n",
      "Epoch 00041: saving model to model_1_2019-12-2312_25_55.208840/model-00041-0.44525-0.84673-0.50177-0.80469.h5\n",
      "\n",
      "Epoch 00041: ReduceLROnPlateau reducing learning rate to 3.051757957450718e-08.\n",
      "Epoch 42/50\n",
      "21/21 [==============================] - 74s 4s/step - loss: 0.4826 - categorical_accuracy: 0.8125 - val_loss: 0.5332 - val_categorical_accuracy: 0.7891\n",
      "\n",
      "Epoch 00042: saving model to model_1_2019-12-2312_25_55.208840/model-00042-0.48263-0.81250-0.53316-0.78906.h5\n",
      "Epoch 43/50\n",
      "21/21 [==============================] - 73s 3s/step - loss: 0.4800 - categorical_accuracy: 0.8155 - val_loss: 0.5204 - val_categorical_accuracy: 0.7812\n",
      "\n",
      "Epoch 00043: saving model to model_1_2019-12-2312_25_55.208840/model-00043-0.47999-0.81548-0.52042-0.78125.h5\n",
      "\n",
      "Epoch 00043: ReduceLROnPlateau reducing learning rate to 1.525878978725359e-08.\n",
      "Epoch 44/50\n",
      "21/21 [==============================] - 72s 3s/step - loss: 0.4604 - categorical_accuracy: 0.8348 - val_loss: 0.4957 - val_categorical_accuracy: 0.8047\n",
      "\n",
      "Epoch 00044: saving model to model_1_2019-12-2312_25_55.208840/model-00044-0.46039-0.83482-0.49567-0.80469.h5\n",
      "Epoch 45/50\n",
      "21/21 [==============================] - 74s 4s/step - loss: 0.4360 - categorical_accuracy: 0.8289 - val_loss: 0.5328 - val_categorical_accuracy: 0.7969\n",
      "\n",
      "Epoch 00045: saving model to model_1_2019-12-2312_25_55.208840/model-00045-0.43603-0.82887-0.53279-0.79688.h5\n",
      "\n",
      "Epoch 00045: ReduceLROnPlateau reducing learning rate to 7.629394893626795e-09.\n",
      "Epoch 46/50\n",
      "21/21 [==============================] - 74s 4s/step - loss: 0.4741 - categorical_accuracy: 0.8378 - val_loss: 0.5207 - val_categorical_accuracy: 0.8047\n",
      "\n",
      "Epoch 00046: saving model to model_1_2019-12-2312_25_55.208840/model-00046-0.47411-0.83780-0.52070-0.80469.h5\n",
      "Epoch 47/50\n",
      "21/21 [==============================] - 71s 3s/step - loss: 0.4670 - categorical_accuracy: 0.8170 - val_loss: 0.5045 - val_categorical_accuracy: 0.7812\n",
      "\n",
      "Epoch 00047: saving model to model_1_2019-12-2312_25_55.208840/model-00047-0.46705-0.81696-0.50448-0.78125.h5\n",
      "\n",
      "Epoch 00047: ReduceLROnPlateau reducing learning rate to 3.814697446813398e-09.\n",
      "Epoch 48/50\n",
      "21/21 [==============================] - 72s 3s/step - loss: 0.4675 - categorical_accuracy: 0.8051 - val_loss: 0.5294 - val_categorical_accuracy: 0.8047\n",
      "\n",
      "Epoch 00048: saving model to model_1_2019-12-2312_25_55.208840/model-00048-0.46747-0.80506-0.52943-0.80469.h5\n",
      "Epoch 49/50\n",
      "21/21 [==============================] - 72s 3s/step - loss: 0.4873 - categorical_accuracy: 0.8170 - val_loss: 0.5120 - val_categorical_accuracy: 0.7891\n",
      "\n",
      "Epoch 00049: saving model to model_1_2019-12-2312_25_55.208840/model-00049-0.48731-0.81696-0.51195-0.78906.h5\n",
      "\n",
      "Epoch 00049: ReduceLROnPlateau reducing learning rate to 1.907348723406699e-09.\n",
      "Epoch 50/50\n",
      "21/21 [==============================] - 72s 3s/step - loss: 0.4631 - categorical_accuracy: 0.8229 - val_loss: 0.5470 - val_categorical_accuracy: 0.7812\n",
      "\n",
      "Epoch 00050: saving model to model_1_2019-12-2312_25_55.208840/model-00050-0.46310-0.82292-0.54700-0.78125.h5\n",
      "Time@End: 2019-12-23 13:28:30.640197\n",
      "Elapsed Time: 1:02:25.121145\n"
     ]
    }
   ],
   "source": [
    "#\n",
    "# train_generator: generator object created above \n",
    "# steps_per_epoch: # of batch calls the fit_generator needs to make so as to complete one pass over the entire dataset\n",
    "# num_epochs: typically between 50 & 100 depending upon the LR (Learning Rate)\n",
    "# callbacks_list: already specified above (checkpoint & LR). fit_generator will, at the end of every epoch, perform the actions listed here.\n",
    "# validation_data: generated above.\n",
    "# class_weight: no need to worry since we have been provided with balanced data\n",
    "# workers: a way to parallelize data-fetching & model-computation \n",
    "# \n",
    "btime = datetime.datetime.now()\n",
    "print('Time@Begin:',btime)\n",
    "\n",
    "'''\n",
    "model.fit_generator(train_generator, steps_per_epoch=steps_per_epoch, epochs=num_epochs, verbose=1, \n",
    "                    callbacks=callbacks_list, validation_data=val_generator, \n",
    "                    validation_steps=validation_steps, class_weight=None, workers=1, initial_epoch=0)\n",
    "'''\n",
    "history=model.fit_generator(train_generator, steps_per_epoch=steps_per_epoch, epochs=num_epochs, verbose=1, \n",
    "                    callbacks=callbacks_list, validation_data=val_generator, \n",
    "                    validation_steps=validation_steps, class_weight=None, workers=1, initial_epoch=0)\n",
    "\n",
    "\n",
    "etime = datetime.datetime.now()\n",
    "print('Time@End:', etime)\n",
    "print('Elapsed Time:', etime-btime)\n"
   ]
  },
  {
   "cell_type": "code",
   "execution_count": 17,
   "metadata": {
    "colab": {},
    "colab_type": "code",
    "id": "3BN6zJZVyJqM"
   },
   "outputs": [
    {
     "name": "stdout",
     "output_type": "stream",
     "text": [
      "dict_keys(['val_loss', 'val_categorical_accuracy', 'loss', 'categorical_accuracy', 'lr'])\n"
     ]
    },
    {
     "data": {
      "image/png": "[encoded data removed]",
      "text/plain": [
       "<Figure size 432x288 with 1 Axes>"
      ]
     },
     "metadata": {},
     "output_type": "display_data"
    },
    {
     "data": {
      "image/png": "[encoded data removed]",
      "text/plain": [
       "<Figure size 432x288 with 1 Axes>"
      ]
     },
     "metadata": {},
     "output_type": "display_data"
    }
   ],
   "source": [
    "  #import matplotlib.pyplot as plt\n",
    "\n",
    "# list all data in history\n",
    "print(history.history.keys())\n",
    "# summarize history for accuracy\n",
    "plt.plot(history.history['categorical_accuracy'])\n",
    "plt.plot(history.history['val_categorical_accuracy'])\n",
    "plt.title('model accuracy')\n",
    "plt.ylabel('accuracy')\n",
    "plt.xlabel('epoch')\n",
    "plt.legend(['train', 'val'], loc='upper left')\n",
    "plt.show()\n",
    "# summarize history for loss\n",
    "plt.plot(history.history['loss'])\n",
    "plt.plot(history.history['val_loss'])\n",
    "plt.title('model loss')\n",
    "plt.ylabel('loss')\n",
    "plt.xlabel('epoch')\n",
    "plt.legend(['train', 'val'], loc='upper left')\n",
    "plt.show()\n"
   ]
  },
  {
   "cell_type": "code",
   "execution_count": null,
   "metadata": {
    "colab": {},
    "colab_type": "code",
    "id": "ZdcFbLADV012"
   },
   "outputs": [],
   "source": []
  }
 ],
 "metadata": {
  "accelerator": "GPU",
  "colab": {
   "collapsed_sections": [],
   "machine_shape": "hm",
   "name": "Neural_Nets_Project_VI_2019-12-22-M1-Final.ipynb",
   "provenance": [],
   "toc_visible": true
  },
  "kernelspec": {
   "display_name": "Python 3",
   "language": "python",
   "name": "python3"
  },
  "language_info": {
   "codemirror_mode": {
    "name": "ipython",
    "version": 3
   },
   "file_extension": ".py",
   "mimetype": "text/x-python",
   "name": "python",
   "nbconvert_exporter": "python",
   "pygments_lexer": "ipython3",
   "version": "3.7.4"
  }
 },
 "nbformat": 4,
 "nbformat_minor": 1
}
